{
 "cells": [
  {
   "cell_type": "code",
   "execution_count": 4,
   "id": "6088b2c6-842c-4714-9646-a4f4484b0956",
   "metadata": {},
   "outputs": [],
   "source": [
    "import json\n",
    "\n",
    "from selenium import webdriver\n",
    "from selenium.webdriver.common.by import By\n",
    "from selenium.webdriver.common.keys import Keys\n",
    "from selenium.webdriver.common.action_chains import ActionChains\n",
    "from selenium.webdriver.support.ui import WebDriverWait\n",
    "from selenium.webdriver.support import expected_conditions as EC\n",
    "\n",
    "import time\n",
    "from bs4 import BeautifulSoup\n",
    "\n",
    "import locale\n",
    "from datetime import datetime"
   ]
  },
  {
   "cell_type": "code",
   "execution_count": 10,
   "id": "f6c651ab-54f4-4d11-a311-982540008d4f",
   "metadata": {},
   "outputs": [],
   "source": [
    "def scrap_articles(soup):\n",
    "    \n",
    "    article_tags = soup.find_all(\"article\", class_=\"c-Card c-Card--search\")\n",
    "\n",
    "    articles = [{\"title\": article.span.text.strip(),\n",
    "             \"abstract\": article.find(\"div\", class_=\"c-Card-content\").text.strip(),\n",
    "             \"topic\": article.find(\"span\", class_=\"c-Card-tag\").text.strip(),\n",
    "             \"link\": article.a[\"href\"],\n",
    "             \"author\": article.find(\"span\", class_=\"c-Card-author\").text.strip(),\n",
    "             \"date\": convert_timestamp(article.find(\"span\", class_=\"c-Card-date\").text.strip())} for article in article_tags]\n",
    "\n",
    "    return articles\n",
    "\n",
    "def convert_timestamp(date_string):\n",
    "\n",
    "    # Set the locale to French\n",
    "    locale.setlocale(locale.LC_TIME, 'fr_FR.UTF-8')  # For Unix-like systems\n",
    "    \n",
    "    # Convert the string to a datetime object\n",
    "    date_object = datetime.strptime(date_string, '%A %d %B %Y')\n",
    "\n",
    "    return date_object.isoformat()\n",
    "\n",
    "def paginate():\n",
    "\n",
    "    # Wait for the 'Next' button to be clickable\n",
    "        time.sleep(2)\n",
    "        next_button = WebDriverWait(driver, 10).until(\n",
    "            EC.element_to_be_clickable((By.CSS_SELECTOR, \"a.next.page-numbers\"))\n",
    "        )\n",
    "        # Click the 'Next' button\n",
    "        next_button.click()\n",
    "        \n",
    "        # Optionally, you can add some code here to extract data from each page\n",
    "        # For example: extract_content_from_page(driver.page_source)\n",
    "\n",
    "        # Wait for the new page to load\n",
    "        WebDriverWait(driver, 10).until(\n",
    "            EC.staleness_of(next_button)\n",
    "        )\n",
    "\n",
    "def run_scraping(topic):\n",
    "    \n",
    "    scraped_articles = []\n",
    "\n",
    "    url = f\"https://lecourrier.ch/?s={topic}\"\n",
    "\n",
    "    driver.get(url)\n",
    "\n",
    "    while True:\n",
    "        try:\n",
    "\n",
    "            time.sleep(3)\n",
    "            soup = BeautifulSoup(driver.page_source)\n",
    "            \n",
    "            articles = scrap_articles(soup)\n",
    "            scraped_articles.extend(articles)\n",
    "\n",
    "            # save articles\n",
    "            with open(f\"../data/scraping/lecourrier_{topic}.json\", \"w\", encoding=\"utf-8\") as fp:\n",
    "                json.dump(scraped_articles, fp, ensure_ascii=False)\n",
    "            \n",
    "            paginate()\n",
    "                \n",
    "            \n",
    "        except Exception as e:\n",
    "            print(\"No more pages or error occurred:\", e)\n",
    "            driver.quit()\n",
    "            break"
   ]
  },
  {
   "cell_type": "code",
   "execution_count": 11,
   "id": "5cff907f-5bc5-403a-9dd4-e178e4b351ea",
   "metadata": {},
   "outputs": [
    {
     "name": "stderr",
     "output_type": "stream",
     "text": [
      "The geckodriver version (0.30.0) detected in PATH at /usr/local/bin/geckodriver might not be compatible with the detected firefox version (130.0.1); currently, geckodriver 0.35.0 is recommended for firefox 130.*, so it is advised to delete the driver in PATH and retry\n"
     ]
    }
   ],
   "source": [
    "driver = webdriver.Firefox()"
   ]
  },
  {
   "cell_type": "code",
   "execution_count": null,
   "id": "5018d3e8-b9d3-4713-9066-562373654ed0",
   "metadata": {},
   "outputs": [],
   "source": [
    "topic = \"palestine\"\n",
    "\n",
    "run_scraping(topic)"
   ]
  },
  {
   "cell_type": "code",
   "execution_count": null,
   "id": "c9e29c56-b167-4d4a-8920-de21d25cb4f2",
   "metadata": {},
   "outputs": [],
   "source": []
  }
 ],
 "metadata": {
  "kernelspec": {
   "display_name": "venv_mediawatch",
   "language": "python",
   "name": "venv_mediawatch"
  },
  "language_info": {
   "codemirror_mode": {
    "name": "ipython",
    "version": 3
   },
   "file_extension": ".py",
   "mimetype": "text/x-python",
   "name": "python",
   "nbconvert_exporter": "python",
   "pygments_lexer": "ipython3",
   "version": "3.12.6"
  }
 },
 "nbformat": 4,
 "nbformat_minor": 5
}
