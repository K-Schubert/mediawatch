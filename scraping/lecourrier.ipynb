{
 "cells": [
  {
   "cell_type": "code",
   "execution_count": 1,
   "id": "6088b2c6-842c-4714-9646-a4f4484b0956",
   "metadata": {},
   "outputs": [],
   "source": [
    "import json\n",
    "\n",
    "from selenium import webdriver\n",
    "from selenium.webdriver.common.by import By\n",
    "from selenium.webdriver.common.keys import Keys\n",
    "from selenium.webdriver.common.action_chains import ActionChains\n",
    "from selenium.webdriver.support.ui import WebDriverWait\n",
    "from selenium.webdriver.support import expected_conditions as EC\n",
    "from selenium.webdriver.firefox.service import Service\n",
    "from webdriver_manager.firefox import GeckoDriverManager\n",
    "\n",
    "import time\n",
    "from bs4 import BeautifulSoup\n",
    "\n",
    "import locale\n",
    "from datetime import datetime\n",
    "import tqdm"
   ]
  },
  {
   "cell_type": "code",
   "execution_count": 2,
   "id": "f6c651ab-54f4-4d11-a311-982540008d4f",
   "metadata": {},
   "outputs": [],
   "source": [
    "def scrap_articles(soup):\n",
    "    \n",
    "    article_tags = soup.find_all(\"article\", class_=\"c-Card c-Card--search\")\n",
    "\n",
    "    articles = [{\"title\": article.span.text.strip(),\n",
    "             \"abstract\": article.find(\"div\", class_=\"c-Card-content\").text.strip(),\n",
    "             \"topic\": article.find(\"span\", class_=\"c-Card-tag\").text.strip(),\n",
    "             \"link\": article.a[\"href\"],\n",
    "             \"author\": article.find(\"span\", class_=\"c-Card-author\").text.strip(),\n",
    "             \"date\": convert_timestamp(article.find(\"span\", class_=\"c-Card-date\").text.strip())} for article in article_tags]\n",
    "\n",
    "    return articles\n",
    "\n",
    "def convert_timestamp(date_string):\n",
    "\n",
    "    # Set the locale to French\n",
    "    locale.setlocale(locale.LC_TIME, 'fr_FR.UTF-8')  # For Unix-like systems\n",
    "    \n",
    "    # Convert the string to a datetime object\n",
    "    date_object = datetime.strptime(date_string, '%A %d %B %Y')\n",
    "\n",
    "    return date_object.isoformat()\n",
    "\n",
    "def paginate():\n",
    "\n",
    "    # Wait for the 'Next' button to be clickable\n",
    "        time.sleep(2)\n",
    "        next_button = WebDriverWait(driver, 10).until(\n",
    "            EC.element_to_be_clickable((By.CSS_SELECTOR, \"a.next.page-numbers\"))\n",
    "        )\n",
    "        # Click the 'Next' button\n",
    "        next_button.click()\n",
    "        \n",
    "        # Optionally, you can add some code here to extract data from each page\n",
    "        # For example: extract_content_from_page(driver.page_source)\n",
    "\n",
    "        # Wait for the new page to load\n",
    "        WebDriverWait(driver, 10).until(\n",
    "            EC.staleness_of(next_button)\n",
    "        )\n",
    "\n",
    "def run_scraping(topic):\n",
    "    \n",
    "    scraped_articles = []\n",
    "\n",
    "    url = f\"https://lecourrier.ch/?s={topic}\"\n",
    "\n",
    "    driver.get(url)\n",
    "\n",
    "    while True:\n",
    "        try:\n",
    "\n",
    "            time.sleep(3)\n",
    "            soup = BeautifulSoup(driver.page_source)\n",
    "            \n",
    "            articles = scrap_articles(soup)\n",
    "            scraped_articles.extend(articles)\n",
    "\n",
    "            # save articles\n",
    "            with open(f\"../data/scraping/lecourrier_{topic}.json\", \"w\", encoding=\"utf-8\") as fp:\n",
    "                json.dump(scraped_articles, fp, ensure_ascii=False)\n",
    "            \n",
    "            paginate()\n",
    "                \n",
    "            \n",
    "        except Exception as e:\n",
    "            print(\"No more pages or error occurred:\", e)\n",
    "            driver.quit()\n",
    "            break"
   ]
  },
  {
   "cell_type": "code",
   "execution_count": 8,
   "id": "5cff907f-5bc5-403a-9dd4-e178e4b351ea",
   "metadata": {},
   "outputs": [
    {
     "name": "stderr",
     "output_type": "stream",
     "text": [
      "The geckodriver version (0.30.0) detected in PATH at /usr/local/bin/geckodriver might not be compatible with the detected firefox version (130.0.1); currently, geckodriver 0.35.0 is recommended for firefox 130.*, so it is advised to delete the driver in PATH and retry\n"
     ]
    }
   ],
   "source": [
    "driver = webdriver.Firefox()"
   ]
  },
  {
   "cell_type": "markdown",
   "id": "205cb4a2-25b2-41b1-a6ef-45fd52291653",
   "metadata": {},
   "source": [
    "# Scrap article list"
   ]
  },
  {
   "cell_type": "code",
   "execution_count": null,
   "id": "5018d3e8-b9d3-4713-9066-562373654ed0",
   "metadata": {},
   "outputs": [],
   "source": [
    "topic = \"israel\"\n",
    "\n",
    "run_scraping(topic)"
   ]
  },
  {
   "cell_type": "markdown",
   "id": "b1e8fe81-9417-4ac4-8234-63c3b8bb76be",
   "metadata": {},
   "source": [
    "# Scrap individual articles"
   ]
  },
  {
   "cell_type": "code",
   "execution_count": 15,
   "id": "f2d615d5-02c4-43b0-8f1d-96375a43fddd",
   "metadata": {},
   "outputs": [],
   "source": [
    "with open('./lecourrier_cookies.json', 'r') as file:\n",
    "    cookies = json.load(file)"
   ]
  },
  {
   "cell_type": "code",
   "execution_count": 16,
   "id": "ee56837f-3d25-4cb7-96f0-4ac4a9e250eb",
   "metadata": {},
   "outputs": [],
   "source": [
    "def authenticate(url, cookies):\n",
    "\n",
    "    driver.get(url)\n",
    "    \n",
    "    for cookie in cookies:\n",
    "        driver.add_cookie(cookie)\n",
    "\n",
    "def scrap_article(soup):\n",
    "\n",
    "    return soup.find_all(\"article\")[0].text"
   ]
  },
  {
   "cell_type": "code",
   "execution_count": 5,
   "id": "932b83b1-712d-479e-b851-bc5a03588b63",
   "metadata": {},
   "outputs": [],
   "source": [
    "with open('../data/scraping/lecourrier_palestine.json', 'r', encoding=\"utf-8\") as file:\n",
    "    article_list = json.load(file)"
   ]
  },
  {
   "cell_type": "code",
   "execution_count": 6,
   "id": "38b287ed-4dfd-4349-9b20-11acce2f8442",
   "metadata": {},
   "outputs": [
    {
     "data": {
      "text/plain": [
       "1209"
      ]
     },
     "execution_count": 6,
     "metadata": {},
     "output_type": "execute_result"
    }
   ],
   "source": [
    "len(article_list)"
   ]
  },
  {
   "cell_type": "code",
   "execution_count": 12,
   "id": "411955a0-1a12-4494-90c1-49f4d69ba455",
   "metadata": {},
   "outputs": [
    {
     "name": "stderr",
     "output_type": "stream",
     "text": [
      "The geckodriver version (0.30.0) detected in PATH at /usr/local/bin/geckodriver might not be compatible with the detected firefox version (130.0.1); currently, geckodriver 0.35.0 is recommended for firefox 130.*, so it is advised to delete the driver in PATH and retry\n"
     ]
    }
   ],
   "source": [
    "#driver = webdriver.Firefox(service=Service(GeckoDriverManager().install()))\n",
    "driver = webdriver.Firefox()\n",
    "\n",
    "authenticate(\"https://lecourrier.ch/\")"
   ]
  },
  {
   "cell_type": "code",
   "execution_count": 13,
   "id": "e3ae5da8-d3a6-4bfd-88ab-098f6569d8fd",
   "metadata": {},
   "outputs": [
    {
     "data": {
      "text/plain": [
       "575"
      ]
     },
     "execution_count": 13,
     "metadata": {},
     "output_type": "execute_result"
    }
   ],
   "source": [
    "184+391"
   ]
  },
  {
   "cell_type": "code",
   "execution_count": 15,
   "id": "f1661f7d-0545-415f-831c-c67f42081321",
   "metadata": {},
   "outputs": [
    {
     "name": "stderr",
     "output_type": "stream",
     "text": [
      "  2%|█▊                                                                                                              | 10/633 [00:36<37:54,  3.65s/it]Service process refused to terminate gracefully with SIGTERM, escalating to SIGKILL.\n",
      "Traceback (most recent call last):\n",
      "  File \"/Users/kieranschubert/Desktop/mediawatch/venv_mediawatch/lib/python3.12/site-packages/selenium/webdriver/common/service.py\", line 172, in _terminate_process\n",
      "    self.process.wait(60)\n",
      "  File \"/opt/homebrew/Cellar/python@3.12/3.12.6/Frameworks/Python.framework/Versions/3.12/lib/python3.12/subprocess.py\", line 1264, in wait\n",
      "    return self._wait(timeout=timeout)\n",
      "           ^^^^^^^^^^^^^^^^^^^^^^^^^^^\n",
      "  File \"/opt/homebrew/Cellar/python@3.12/3.12.6/Frameworks/Python.framework/Versions/3.12/lib/python3.12/subprocess.py\", line 2045, in _wait\n",
      "    raise TimeoutExpired(self.args, timeout)\n",
      "subprocess.TimeoutExpired: Command '['/Users/kieranschubert/.wdm/drivers/geckodriver/mac64/v0.35.0/geckodriver', '--port', '56139', '--websocket-port', '56140']' timed out after 60 seconds\n",
      "100%|███████████████████████████████████████████████████████████████████████████████████████████████████████████████| 633/633 [39:55<00:00,  3.78s/it]\n"
     ]
    }
   ],
   "source": [
    "scraped_articles = []\n",
    "\n",
    "for article in tqdm.tqdm(article_list[576:]):\n",
    "\n",
    "    time.sleep(2)\n",
    "    \n",
    "    driver.get(article[\"link\"])\n",
    "\n",
    "    soup = BeautifulSoup(driver.page_source)\n",
    "\n",
    "    article_text = scrap_article(soup)\n",
    "\n",
    "    scraped_articles.append({article[\"link\"]: article_text})\n",
    "\n",
    "    # save articles\n",
    "    with open(f\"../data/scraping/lecourrier_palestine_articles_4.json\", \"w\", encoding=\"utf-8\") as fp:\n",
    "        json.dump(scraped_articles, fp, ensure_ascii=False)"
   ]
  },
  {
   "cell_type": "code",
   "execution_count": null,
   "id": "43da7b5b-da82-4abd-b50a-6c65fe340cdf",
   "metadata": {},
   "outputs": [],
   "source": []
  }
 ],
 "metadata": {
  "kernelspec": {
   "display_name": "venv_mediawatch",
   "language": "python",
   "name": "venv_mediawatch"
  },
  "language_info": {
   "codemirror_mode": {
    "name": "ipython",
    "version": 3
   },
   "file_extension": ".py",
   "mimetype": "text/x-python",
   "name": "python",
   "nbconvert_exporter": "python",
   "pygments_lexer": "ipython3",
   "version": "3.12.6"
  }
 },
 "nbformat": 4,
 "nbformat_minor": 5
}
