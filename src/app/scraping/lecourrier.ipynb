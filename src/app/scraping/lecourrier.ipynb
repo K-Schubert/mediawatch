{
 "cells": [
  {
   "cell_type": "code",
   "execution_count": 1,
   "id": "6088b2c6-842c-4714-9646-a4f4484b0956",
   "metadata": {},
   "outputs": [],
   "source": [
    "import os\n",
    "import sys\n",
    "\n",
    "parent_dir = os.path.abspath(os.path.join(os.getcwd(), '..'))\n",
    "sys.path.append(parent_dir)\n",
    "\n",
    "import json\n",
    "\n",
    "from selenium import webdriver\n",
    "from selenium.webdriver.common.by import By\n",
    "from selenium.webdriver.common.keys import Keys\n",
    "from selenium.webdriver.common.action_chains import ActionChains\n",
    "from selenium.webdriver.support.ui import WebDriverWait\n",
    "from selenium.webdriver.support import expected_conditions as EC\n",
    "from selenium.webdriver.firefox.service import Service\n",
    "from webdriver_manager.firefox import GeckoDriverManager\n",
    "\n",
    "import time\n",
    "from bs4 import BeautifulSoup\n",
    "\n",
    "import locale\n",
    "from datetime import datetime\n",
    "import tqdm\n",
    "\n",
    "from utils import Article, Database, LeCourrierScraper"
   ]
  },
  {
   "cell_type": "code",
   "execution_count": null,
   "id": "3e816b21-a4c8-4374-8de2-f91acbd38efc",
   "metadata": {},
   "outputs": [],
   "source": [
    "# hamas, génocide, liban, fplp, fatah, olp, otp, territoires occupés"
   ]
  },
  {
   "cell_type": "code",
   "execution_count": 13,
   "id": "72247748-3ed6-4bae-ba86-b358326c56e5",
   "metadata": {},
   "outputs": [
    {
     "name": "stderr",
     "output_type": "stream",
     "text": [
      "2024-10-01 19:04:25,607 - selenium.webdriver.common.selenium_manager - WARNING - The geckodriver version (0.30.0) detected in PATH at /usr/local/bin/geckodriver might not be compatible with the detected firefox version (130.0.1); currently, geckodriver 0.35.0 is recommended for firefox 130.*, so it is advised to delete the driver in PATH and retry\n"
     ]
    }
   ],
   "source": [
    "scraper = LeCourrierScraper(topic=\"hamas\",\n",
    "                            save_path=\"../../../data/scraping/lecourrier\",\n",
    "                            save=[\"json\", \"csv\"],\n",
    "                            headless=False)"
   ]
  },
  {
   "cell_type": "code",
   "execution_count": 14,
   "id": "7713c611-91ff-43e0-bb9b-e8dfdc3ea133",
   "metadata": {},
   "outputs": [
    {
     "name": "stderr",
     "output_type": "stream",
     "text": [
      "2024-10-01 19:05:03,447 - utils.scraping - INFO - Scraped 20 articles from current page.\n",
      "2024-10-01 19:05:16,055 - utils.scraping - INFO - Scraped 20 articles from current page.\n",
      "2024-10-01 19:05:24,509 - utils.scraping - INFO - Scraped 20 articles from current page.\n",
      "2024-10-01 19:05:33,913 - utils.scraping - INFO - Scraped 20 articles from current page.\n",
      "2024-10-01 19:05:44,399 - utils.scraping - INFO - Scraped 20 articles from current page.\n",
      "2024-10-01 19:05:55,575 - utils.scraping - INFO - Scraped 20 articles from current page.\n",
      "2024-10-01 19:06:06,579 - utils.scraping - INFO - Scraped 20 articles from current page.\n",
      "2024-10-01 19:06:14,446 - utils.scraping - INFO - Scraped 20 articles from current page.\n",
      "2024-10-01 19:06:22,328 - utils.scraping - INFO - Scraped 20 articles from current page.\n",
      "2024-10-01 19:06:30,220 - utils.scraping - INFO - Scraped 20 articles from current page.\n",
      "2024-10-01 19:06:39,129 - utils.scraping - INFO - Scraped 20 articles from current page.\n",
      "2024-10-01 19:06:46,977 - utils.scraping - INFO - Scraped 20 articles from current page.\n",
      "2024-10-01 19:06:59,593 - utils.scraping - INFO - No more pages or error occurred during pagination: Message: \n",
      "\n"
     ]
    }
   ],
   "source": [
    "scraper.run_article_scraping()"
   ]
  },
  {
   "cell_type": "code",
   "execution_count": null,
   "id": "ea0da76b-b8a0-4719-bef3-3810f9516d1b",
   "metadata": {},
   "outputs": [],
   "source": [
    "scraper.run_content_scraping()"
   ]
  },
  {
   "cell_type": "code",
   "execution_count": null,
   "id": "018c7cbc-440e-4eba-8c37-3262921230c7",
   "metadata": {},
   "outputs": [],
   "source": [
    "scraper.run()"
   ]
  },
  {
   "cell_type": "code",
   "execution_count": null,
   "id": "43da7b5b-da82-4abd-b50a-6c65fe340cdf",
   "metadata": {},
   "outputs": [],
   "source": []
  }
 ],
 "metadata": {
  "kernelspec": {
   "display_name": "venv_mediawatch",
   "language": "python",
   "name": "venv_mediawatch"
  },
  "language_info": {
   "codemirror_mode": {
    "name": "ipython",
    "version": 3
   },
   "file_extension": ".py",
   "mimetype": "text/x-python",
   "name": "python",
   "nbconvert_exporter": "python",
   "pygments_lexer": "ipython3",
   "version": "3.12.6"
  }
 },
 "nbformat": 4,
 "nbformat_minor": 5
}
