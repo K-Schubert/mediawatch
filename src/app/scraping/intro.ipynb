{
 "cells": [
  {
   "cell_type": "markdown",
   "id": "128af9b8-853d-4d82-be0a-d7b70e8cf576",
   "metadata": {},
   "source": [
    "# Introduction"
   ]
  },
  {
   "cell_type": "markdown",
   "id": "2cb79497-4c67-495f-a5b8-f9f4f70bb1aa",
   "metadata": {},
   "source": [
    "We are scraping the following swiss media:\n",
    "\n",
    "- 20min.ch\n",
    "- letemps.ch\n",
    "- lecourrier.ch\n",
    "- lematin.ch"
   ]
  },
  {
   "cell_type": "code",
   "execution_count": null,
   "id": "5e5f9f23-acdc-4a95-abce-65348be5f279",
   "metadata": {},
   "outputs": [],
   "source": []
  }
 ],
 "metadata": {
  "kernelspec": {
   "display_name": "venv_mediawatch",
   "language": "python",
   "name": "venv_mediawatch"
  },
  "language_info": {
   "codemirror_mode": {
    "name": "ipython",
    "version": 3
   },
   "file_extension": ".py",
   "mimetype": "text/x-python",
   "name": "python",
   "nbconvert_exporter": "python",
   "pygments_lexer": "ipython3",
   "version": "3.12.6"
  }
 },
 "nbformat": 4,
 "nbformat_minor": 5
}
