{
 "cells": [
  {
   "cell_type": "code",
   "execution_count": 1,
   "id": "177c5693-dd81-4d18-9dda-8fd047e480df",
   "metadata": {},
   "outputs": [],
   "source": [
    "import os\n",
    "import sys\n",
    "\n",
    "parent_dir = os.path.abspath(os.path.join(os.getcwd(), '..'))\n",
    "sys.path.append(parent_dir)\n",
    "\n",
    "from utils import Article, Database"
   ]
  },
  {
   "cell_type": "code",
   "execution_count": 12,
   "id": "df6dd2e2-db8e-4e6d-aebb-73de054a6c5e",
   "metadata": {},
   "outputs": [],
   "source": [
    "article1 = Article(\n",
    "    source=\"Example Source1\",\n",
    "    link=\"http://example.com1\",\n",
    "    title=\"Example Title\",\n",
    "    author=\"Author Name\",\n",
    "    html=\"<p>Example HTML</p>\",\n",
    "    text=\"Example text\",\n",
    "    published_date=\"2023-10-01\",\n",
    "    topic=\"Example Topic\",\n",
    "    abstract=\"Example Abstract\"\n",
    ")"
   ]
  },
  {
   "cell_type": "code",
   "execution_count": 13,
   "id": "a8efd14d-11e3-40da-898e-805e85ee8d02",
   "metadata": {},
   "outputs": [],
   "source": [
    "# Example with optional arguments omitted\n",
    "article2 = Article(\n",
    "    source=\"Example Source2\",\n",
    "    link=\"http://example.com2\",\n",
    "    title=\"Example Title\",\n",
    "    author=\"Author Name\",\n",
    "    html=\"<p>Example HTML</p>\",\n",
    "    text=\"Example text\",\n",
    "    published_date=\"2023-10-01\"\n",
    ")"
   ]
  },
  {
   "cell_type": "code",
   "execution_count": null,
   "id": "dbe53289-8545-4829-ab3d-e82f59a2f63b",
   "metadata": {},
   "outputs": [],
   "source": [
    "article2.append_to_csv(\"./ex.csv\")"
   ]
  },
  {
   "cell_type": "code",
   "execution_count": 4,
   "id": "3bc9de80-e193-49b3-bffe-53b7adf5ce93",
   "metadata": {},
   "outputs": [],
   "source": [
    "db = Database.get_db()"
   ]
  },
  {
   "cell_type": "code",
   "execution_count": 8,
   "id": "893a9702-96dd-47e6-b6fb-a74cbf615dc0",
   "metadata": {},
   "outputs": [
    {
     "name": "stderr",
     "output_type": "stream",
     "text": [
      "2024-10-01 11:30:29,732 - utils.db - INFO - Upserted article: ('Example Source', 'http://example.com', 'Author Name', 'Example Title', '<p>Example HTML</p>', 'Example text', '2023-10-01', 'Example Topic', 'Example Abstract')\n"
     ]
    }
   ],
   "source": [
    "article1.upsert(db)"
   ]
  },
  {
   "cell_type": "code",
   "execution_count": 14,
   "id": "1f3a230a-943b-442b-bf4d-426a28a85bbd",
   "metadata": {},
   "outputs": [
    {
     "name": "stderr",
     "output_type": "stream",
     "text": [
      "2024-10-01 11:31:20,207 - utils.db - INFO - Upserted article: ('Example Source1', 'http://example.com1', 'Author Name', 'Example Title', '<p>Example HTML</p>', 'Example text', '2023-10-01', 'Example Topic', 'Example Abstract')\n",
      "2024-10-01 11:31:20,216 - utils.db - INFO - Upserted article: ('Example Source2', 'http://example.com2', 'Author Name', 'Example Title', '<p>Example HTML</p>', 'Example text', '2023-10-01', None, None)\n"
     ]
    }
   ],
   "source": [
    "# Upsert the articles into the database\n",
    "article1.upsert(db)\n",
    "article2.upsert(db)"
   ]
  },
  {
   "cell_type": "code",
   "execution_count": null,
   "id": "7215c80a-d114-44d0-b128-00803dc4289d",
   "metadata": {},
   "outputs": [],
   "source": []
  }
 ],
 "metadata": {
  "kernelspec": {
   "display_name": "venv_mediawatch",
   "language": "python",
   "name": "venv_mediawatch"
  },
  "language_info": {
   "codemirror_mode": {
    "name": "ipython",
    "version": 3
   },
   "file_extension": ".py",
   "mimetype": "text/x-python",
   "name": "python",
   "nbconvert_exporter": "python",
   "pygments_lexer": "ipython3",
   "version": "3.12.6"
  }
 },
 "nbformat": 4,
 "nbformat_minor": 5
}
